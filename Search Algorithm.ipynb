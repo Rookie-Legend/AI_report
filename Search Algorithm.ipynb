{
  "nbformat": 4,
  "nbformat_minor": 0,
  "metadata": {
    "colab": {
      "provenance": [],
      "toc_visible": true
    },
    "kernelspec": {
      "name": "python3",
      "display_name": "Python 3"
    },
    "language_info": {
      "name": "python"
    }
  },
  "cells": [
    {
      "cell_type": "code",
      "execution_count": 6,
      "metadata": {
        "colab": {
          "base_uri": "https://localhost:8080/"
        },
        "id": "42CFI0wMG6vr",
        "outputId": "e7f32ba3-fa5c-42d0-b203-2699da01a624"
      },
      "outputs": [
        {
          "output_type": "stream",
          "name": "stdout",
          "text": [
            "Overwriting britishmuseum.cpp\n"
          ]
        }
      ],
      "source": [
        "%%writefile britishmuseum.cpp\n",
        "#include <iostream>\n",
        "#include <vector>\n",
        "#include <algorithm>\n",
        "using namespace std;\n",
        "\n",
        "struct State {\n",
        "    int value;\n",
        "    vector<int> path;\n",
        "};\n",
        "\n",
        "void britishMuseumSearch(int start, int goal, vector<vector<int>>& graph) {\n",
        "    vector<State> allStates;\n",
        "    allStates.push_back({start, {start}});\n",
        "    bool found = false;\n",
        "\n",
        "    for (size_t i = 0; i < allStates.size(); i++) {\n",
        "        State current = allStates[i];\n",
        "\n",
        "        cout << \"Visiting node: \" << current.value << \" | Path: \";\n",
        "        for (int step : current.path) cout << step << \" \";\n",
        "        cout << endl;\n",
        "\n",
        "        if (current.value == goal) {\n",
        "            cout << \"Goal found! Path: \";\n",
        "            for (int step : current.path) cout << step << \" \";\n",
        "            cout << endl;\n",
        "            found = true;\n",
        "        }\n",
        "\n",
        "        for (int neighbor : graph[current.value]) {\n",
        "            if (find(current.path.begin(), current.path.end(), neighbor) == current.path.end()) {\n",
        "                vector<int> newPath = current.path;\n",
        "                newPath.push_back(neighbor);\n",
        "                allStates.push_back({neighbor, newPath});\n",
        "            }\n",
        "        }\n",
        "    }\n",
        "\n",
        "    if (!found) {\n",
        "        cout << \"Goal not found!\" << endl;\n",
        "    }\n",
        "}\n",
        "\n",
        "int main() {\n",
        "    int n = 7;\n",
        "    vector<vector<int>> graph(n);\n",
        "    graph[0] = {1, 2};\n",
        "    graph[1] = {0, 2, 4};\n",
        "    graph[2] = {0, 1, 3};\n",
        "    graph[3] = {2, 5};\n",
        "    graph[4] = {1, 6};\n",
        "    graph[5] = {3};\n",
        "    graph[6] = {4};\n",
        "\n",
        "    int start = 0;\n",
        "    int goal = 6;\n",
        "\n",
        "    britishMuseumSearch(start, goal, graph);\n",
        "\n",
        "    return 0;\n",
        "}"
      ]
    },
    {
      "cell_type": "code",
      "source": [
        "    %%script bash\n",
        "    g++ britishmuseum.cpp -o britishmuseum\n",
        "    ./britishmuseum"
      ],
      "metadata": {
        "colab": {
          "base_uri": "https://localhost:8080/"
        },
        "id": "jPTj3BmIJwVZ",
        "outputId": "59086d8b-5e0a-48eb-feb0-418bad48d15b"
      },
      "execution_count": 7,
      "outputs": [
        {
          "output_type": "stream",
          "name": "stdout",
          "text": [
            "Visiting node: 0 | Path: 0 \n",
            "Visiting node: 1 | Path: 0 1 \n",
            "Visiting node: 2 | Path: 0 2 \n",
            "Visiting node: 2 | Path: 0 1 2 \n",
            "Visiting node: 4 | Path: 0 1 4 \n",
            "Visiting node: 1 | Path: 0 2 1 \n",
            "Visiting node: 3 | Path: 0 2 3 \n",
            "Visiting node: 3 | Path: 0 1 2 3 \n",
            "Visiting node: 6 | Path: 0 1 4 6 \n",
            "Goal found! Path: 0 1 4 6 \n",
            "Visiting node: 4 | Path: 0 2 1 4 \n",
            "Visiting node: 5 | Path: 0 2 3 5 \n",
            "Visiting node: 5 | Path: 0 1 2 3 5 \n",
            "Visiting node: 6 | Path: 0 2 1 4 6 \n",
            "Goal found! Path: 0 2 1 4 6 \n"
          ]
        }
      ]
    },
    {
      "cell_type": "code",
      "source": [
        "%%writefile dfs.cpp\n",
        "#include <iostream>\n",
        "#include <vector>\n",
        "#include <stack>\n",
        "using namespace std;\n",
        "\n",
        "void DFS(int start, int goal, vector<vector<int>>& graph) {\n",
        "    vector<bool> visited(graph.size(), false);\n",
        "    vector<int> parent(graph.size(), -1);\n",
        "    stack<int> s;\n",
        "\n",
        "    s.push(start);\n",
        "\n",
        "    while (!s.empty()) {\n",
        "        int current = s.top();\n",
        "        s.pop();\n",
        "\n",
        "        if (visited[current]) continue;\n",
        "        visited[current] = true;\n",
        "\n",
        "        vector<int> path;\n",
        "        for (int v = current; v != -1; v = parent[v])\n",
        "            path.push_back(v);\n",
        "\n",
        "        cout << \"Visiting node: \" << current << \" | Path: \";\n",
        "        for (int i = path.size() - 1; i >= 0; i--)\n",
        "            cout << path[i] << \" \";\n",
        "        cout << endl;\n",
        "\n",
        "        if (current == goal) {\n",
        "            cout << \"Goal Found! Final Path: \";\n",
        "            for (int i = path.size() - 1; i >= 0; i--)\n",
        "                cout << path[i] << \" \";\n",
        "            cout << endl;\n",
        "            return;\n",
        "        }\n",
        "\n",
        "        for (auto it = graph[current].rbegin(); it != graph[current].rend(); ++it) {\n",
        "            int neighbor = *it;\n",
        "            if (!visited[neighbor]) {\n",
        "                parent[neighbor] = current;\n",
        "                s.push(neighbor);\n",
        "            }\n",
        "        }\n",
        "    }\n",
        "}\n",
        "\n",
        "int main() {\n",
        "    int n = 7;\n",
        "    vector<vector<int>> graph(n);\n",
        "\n",
        "    graph[0] = {1, 2};\n",
        "    graph[1] = {0, 2, 4};\n",
        "    graph[2] = {0, 1, 3};\n",
        "    graph[3] = {2, 5};\n",
        "    graph[4] = {1, 6};\n",
        "    graph[5] = {3};\n",
        "    graph[6] = {4};\n",
        "\n",
        "    DFS(0, 6, graph);\n",
        "\n",
        "    return 0;\n",
        "}"
      ],
      "metadata": {
        "colab": {
          "base_uri": "https://localhost:8080/"
        },
        "id": "-SGZuUvdNs3O",
        "outputId": "0f635ee4-4bc8-4dc8-fd82-a99872ae378a"
      },
      "execution_count": 8,
      "outputs": [
        {
          "output_type": "stream",
          "name": "stdout",
          "text": [
            "Writing dfs.cpp\n"
          ]
        }
      ]
    },
    {
      "cell_type": "code",
      "source": [
        "%%script bash\n",
        "g++ dfs.cpp -o dfs\n",
        "./dfs"
      ],
      "metadata": {
        "colab": {
          "base_uri": "https://localhost:8080/"
        },
        "id": "G4FRxs48NwSw",
        "outputId": "8945fc62-9078-4f81-a911-649c5feffd8c"
      },
      "execution_count": 9,
      "outputs": [
        {
          "output_type": "stream",
          "name": "stdout",
          "text": [
            "Visiting node: 0 | Path: 0 \n",
            "Visiting node: 1 | Path: 0 1 \n",
            "Visiting node: 2 | Path: 0 1 2 \n",
            "Visiting node: 3 | Path: 0 1 2 3 \n",
            "Visiting node: 5 | Path: 0 1 2 3 5 \n",
            "Visiting node: 4 | Path: 0 1 4 \n",
            "Visiting node: 6 | Path: 0 1 4 6 \n",
            "Goal Found! Final Path: 0 1 4 6 \n"
          ]
        }
      ]
    },
    {
      "cell_type": "code",
      "source": [
        "%%writefile bfs.cpp\n",
        "#include <iostream>\n",
        "#include <vector>\n",
        "#include <queue>\n",
        "using namespace std;\n",
        "\n",
        "void BFS(int start, int goal, vector<vector<int>>& graph) {\n",
        "    vector<bool> visited(graph.size(), false);\n",
        "    vector<int> parent(graph.size(), -1);\n",
        "    queue<int> q;\n",
        "\n",
        "    q.push(start);\n",
        "\n",
        "    while (!q.empty()) {\n",
        "        int current = q.front();\n",
        "        q.pop();\n",
        "\n",
        "        if (visited[current]) continue;\n",
        "        visited[current] = true;\n",
        "\n",
        "        vector<int> path;\n",
        "        for (int v = current; v != -1; v = parent[v])\n",
        "            path.push_back(v);\n",
        "\n",
        "        cout << \"Visiting node: \" << current << \" | Path: \";\n",
        "        for (int i = path.size() - 1; i >= 0; i--)\n",
        "            cout << path[i] << \" \";\n",
        "        cout << endl;\n",
        "\n",
        "        if (current == goal) {\n",
        "            cout << \"Goal Found! Final Path: \";\n",
        "            for (int i = path.size() - 1; i >= 0; i--)\n",
        "                cout << path[i] << \" \";\n",
        "            cout << endl;\n",
        "            return;\n",
        "        }\n",
        "\n",
        "        for (int neighbor : graph[current]) {\n",
        "            if (!visited[neighbor]) {\n",
        "                parent[neighbor] = current;\n",
        "                q.push(neighbor);\n",
        "            }\n",
        "        }\n",
        "    }\n",
        "}\n",
        "\n",
        "int main() {\n",
        "    int n = 7;\n",
        "    vector<vector<int>> graph(n);\n",
        "\n",
        "    graph[0] = {1, 2};\n",
        "    graph[1] = {0, 2, 4};\n",
        "    graph[2] = {0, 1, 3};\n",
        "    graph[3] = {2, 5};\n",
        "    graph[4] = {1, 6};\n",
        "    graph[5] = {3};\n",
        "    graph[6] = {4};\n",
        "\n",
        "    BFS(0, 6, graph);\n",
        "\n",
        "    return 0;\n",
        "}\n"
      ],
      "metadata": {
        "colab": {
          "base_uri": "https://localhost:8080/"
        },
        "id": "cxRFpOUvOgaT",
        "outputId": "28bdd5d8-8241-4d6e-f8e5-5739295ad2d2"
      },
      "execution_count": 10,
      "outputs": [
        {
          "output_type": "stream",
          "name": "stdout",
          "text": [
            "Writing bfs.cpp\n"
          ]
        }
      ]
    },
    {
      "cell_type": "code",
      "source": [
        "%%script bash\n",
        "g++ bfs.cpp -o bfs\n",
        "./bfs"
      ],
      "metadata": {
        "colab": {
          "base_uri": "https://localhost:8080/"
        },
        "id": "IP24zxQjOgaT",
        "outputId": "1379e014-d44f-4b4b-ef1e-9db18c74a379"
      },
      "execution_count": 11,
      "outputs": [
        {
          "output_type": "stream",
          "name": "stdout",
          "text": [
            "Visiting node: 0 | Path: 0 \n",
            "Visiting node: 1 | Path: 0 1 \n",
            "Visiting node: 2 | Path: 0 1 2 \n",
            "Visiting node: 4 | Path: 0 1 4 \n",
            "Visiting node: 3 | Path: 0 1 2 3 \n",
            "Visiting node: 6 | Path: 0 1 4 6 \n",
            "Goal Found! Final Path: 0 1 4 6 \n"
          ]
        }
      ]
    },
    {
      "cell_type": "code",
      "source": [
        "%%writefile dfsH.cpp\n",
        "#include <iostream>\n",
        "#include <vector>\n",
        "using namespace std;\n",
        "\n",
        "bool DFSUtil(int current, int goal, vector<vector<int>>& graph, vector<bool>& globalVisited, vector<int>& path) {\n",
        "    globalVisited[current] = true;\n",
        "    path.push_back(current);\n",
        "    cout << \"Visiting node: \" << current << \" | Path: \";\n",
        "    for (int node : path) cout << node << \" \";\n",
        "    cout << endl;\n",
        "\n",
        "    if (current == goal) {\n",
        "        cout << \"Goal Found! Path: \";\n",
        "        for (int node : path) cout << node << \" \";\n",
        "        cout << endl;\n",
        "        return true;\n",
        "    }\n",
        "\n",
        "    for (int neighbor : graph[current]) {\n",
        "        if (!globalVisited[neighbor]) {\n",
        "            if (DFSUtil(neighbor, goal, graph, globalVisited, path)) return true;\n",
        "        }\n",
        "    }\n",
        "\n",
        "    path.pop_back();\n",
        "    return false;\n",
        "}\n",
        "\n",
        "void DFS(int start, int goal, vector<vector<int>>& graph) {\n",
        "    vector<bool> globalVisited(graph.size(), false);\n",
        "    vector<int> path;\n",
        "    DFSUtil(start, goal, graph, globalVisited, path);\n",
        "}\n",
        "\n",
        "int main() {\n",
        "    int n = 7;\n",
        "    vector<vector<int>> graph(n);\n",
        "\n",
        "    graph[0] = {1, 2};\n",
        "    graph[1] = {0, 4, 2};\n",
        "    graph[2] = {0, 1, 3};\n",
        "    graph[3] = {2, 5};\n",
        "    graph[4] = {1, 6};\n",
        "    graph[5] = {3};\n",
        "    graph[6] = {4};\n",
        "\n",
        "    DFS(0, 6, graph);\n",
        "\n",
        "    return 0;\n",
        "}"
      ],
      "metadata": {
        "colab": {
          "base_uri": "https://localhost:8080/"
        },
        "id": "MR1lq6htOhU3",
        "outputId": "70a38f4a-092c-4c35-b790-f1e01bf18928"
      },
      "execution_count": 12,
      "outputs": [
        {
          "output_type": "stream",
          "name": "stdout",
          "text": [
            "Writing dfsH.cpp\n"
          ]
        }
      ]
    },
    {
      "cell_type": "code",
      "source": [
        "%%script bash\n",
        "g++ dfsH.cpp -o dfsH\n",
        "./dfsH"
      ],
      "metadata": {
        "colab": {
          "base_uri": "https://localhost:8080/"
        },
        "id": "AlWWvorkOhU4",
        "outputId": "1215639f-e862-4d8d-be01-8e01dc7246e8"
      },
      "execution_count": 13,
      "outputs": [
        {
          "output_type": "stream",
          "name": "stdout",
          "text": [
            "Visiting node: 0 | Path: 0 \n",
            "Visiting node: 1 | Path: 0 1 \n",
            "Visiting node: 4 | Path: 0 1 4 \n",
            "Visiting node: 6 | Path: 0 1 4 6 \n",
            "Goal Found! Path: 0 1 4 6 \n"
          ]
        }
      ]
    },
    {
      "cell_type": "code",
      "source": [
        "%%writefile bfsH.cpp\n",
        "#include <iostream>\n",
        "#include <vector>\n",
        "#include <queue>\n",
        "using namespace std;\n",
        "\n",
        "void BFS(int start, int goal, vector<vector<int>>& graph) {\n",
        "    vector<bool> visited(graph.size(), false);\n",
        "    queue<vector<int>> q;\n",
        "\n",
        "    q.push({start});\n",
        "    visited[start] = true;\n",
        "\n",
        "    while (!q.empty()) {\n",
        "        vector<int> path = q.front();\n",
        "        q.pop();\n",
        "        int current = path.back();\n",
        "\n",
        "        cout << \"Visiting node: \" << current << \" | Path: \";\n",
        "        for (int node : path) cout << node << \" \";\n",
        "        cout << endl;\n",
        "\n",
        "        if (current == goal) {\n",
        "            cout << \"Goal Found! Path: \";\n",
        "            for (int node : path) cout << node << \" \";\n",
        "            cout << endl;\n",
        "            return;\n",
        "        }\n",
        "\n",
        "        for (int neighbor : graph[current]) {\n",
        "            if (!visited[neighbor]) {\n",
        "                visited[neighbor] = true;\n",
        "                vector<int> newPath = path;\n",
        "                newPath.push_back(neighbor);\n",
        "                q.push(newPath);\n",
        "            }\n",
        "        }\n",
        "    }\n",
        "}\n",
        "\n",
        "int main() {\n",
        "    int n = 7;\n",
        "    vector<vector<int>> graph(n);\n",
        "\n",
        "    graph[0] = {1, 2};\n",
        "    graph[1] = {0, 4, 2};\n",
        "    graph[2] = {0, 1, 3};\n",
        "    graph[3] = {2, 5};\n",
        "    graph[4] = {1, 6};\n",
        "    graph[5] = {3};\n",
        "    graph[6] = {4};\n",
        "\n",
        "    BFS(0, 6, graph);\n",
        "\n",
        "    return 0;\n",
        "}"
      ],
      "metadata": {
        "colab": {
          "base_uri": "https://localhost:8080/"
        },
        "id": "AZL2j-7SOhdW",
        "outputId": "cd10852b-b6ae-484d-c747-d00f988eef25"
      },
      "execution_count": 14,
      "outputs": [
        {
          "output_type": "stream",
          "name": "stdout",
          "text": [
            "Writing bfsH.cpp\n"
          ]
        }
      ]
    },
    {
      "cell_type": "code",
      "source": [
        "%%script bash\n",
        "g++ bfsH.cpp -o bfsH\n",
        "./bfsH"
      ],
      "metadata": {
        "colab": {
          "base_uri": "https://localhost:8080/"
        },
        "id": "eVa8k_KVOhdW",
        "outputId": "2fa278ae-766d-4432-da8e-71fc33293eae"
      },
      "execution_count": 15,
      "outputs": [
        {
          "output_type": "stream",
          "name": "stdout",
          "text": [
            "Visiting node: 0 | Path: 0 \n",
            "Visiting node: 1 | Path: 0 1 \n",
            "Visiting node: 2 | Path: 0 2 \n",
            "Visiting node: 4 | Path: 0 1 4 \n",
            "Visiting node: 3 | Path: 0 2 3 \n",
            "Visiting node: 6 | Path: 0 1 4 6 \n",
            "Goal Found! Path: 0 1 4 6 \n"
          ]
        }
      ]
    },
    {
      "cell_type": "code",
      "source": [
        "%%writefile bfsdfs.cpp\n",
        "#include <iostream>\n",
        "#include <vector>\n",
        "#include <queue>\n",
        "using namespace std;\n",
        "\n",
        "void DFSExpand(int current, int goal, vector<vector<int>>& graph, vector<bool>& visited, vector<int> path) {\n",
        "    visited[current] = true;\n",
        "    path.push_back(current);\n",
        "\n",
        "    cout << \"Visiting node: \" << current << \" | Path: \";\n",
        "    for (int node : path) cout << node << \" \";\n",
        "    cout << endl;\n",
        "\n",
        "    if (current == goal) {\n",
        "        cout << \"Goal Found! Path: \";\n",
        "        for (int node : path) cout << node << \" \";\n",
        "        cout << endl;\n",
        "        exit(0);\n",
        "    }\n",
        "\n",
        "    for (int neighbor : graph[current]) {\n",
        "        if (!visited[neighbor]) {\n",
        "            DFSExpand(neighbor, goal, graph, visited, path);\n",
        "        }\n",
        "    }\n",
        "}\n",
        "\n",
        "void BFS_DFS(int start, int goal, vector<vector<int>>& graph) {\n",
        "    vector<bool> visited(graph.size(), false);\n",
        "    queue<int> q;\n",
        "\n",
        "    q.push(start);\n",
        "\n",
        "    while (!q.empty()) {\n",
        "        int current = q.front();\n",
        "        q.pop();\n",
        "\n",
        "        if (!visited[current]) {\n",
        "            vector<int> path;\n",
        "            DFSExpand(current, goal, graph, visited, path);\n",
        "        }\n",
        "\n",
        "        for (int neighbor : graph[current]) {\n",
        "            if (!visited[neighbor]) {\n",
        "                q.push(neighbor);\n",
        "            }\n",
        "        }\n",
        "    }\n",
        "}\n",
        "\n",
        "int main() {\n",
        "    int n = 7;\n",
        "    vector<vector<int>> graph(n);\n",
        "\n",
        "    graph[0] = {1, 2};\n",
        "    graph[1] = {0, 4, 2};\n",
        "    graph[2] = {0, 1, 3};\n",
        "    graph[3] = {2, 5};\n",
        "    graph[4] = {1, 6};\n",
        "    graph[5] = {3};\n",
        "    graph[6] = {4};\n",
        "\n",
        "    BFS_DFS(0, 6, graph);\n",
        "\n",
        "    return 0;\n",
        "}"
      ],
      "metadata": {
        "colab": {
          "base_uri": "https://localhost:8080/"
        },
        "id": "7ASaoMCsOhmB",
        "outputId": "bad98823-f964-4766-88d8-51f57645db16"
      },
      "execution_count": 16,
      "outputs": [
        {
          "output_type": "stream",
          "name": "stdout",
          "text": [
            "Writing bfsdfs.cpp\n"
          ]
        }
      ]
    },
    {
      "cell_type": "code",
      "source": [
        "%%script bash\n",
        "g++ bfsdfs.cpp -o bfsdfs\n",
        "./bfsdfs"
      ],
      "metadata": {
        "colab": {
          "base_uri": "https://localhost:8080/"
        },
        "id": "ZsFpQx1EOhmB",
        "outputId": "d138ed65-732d-45b6-8fb8-e4cf6fcdf848"
      },
      "execution_count": 17,
      "outputs": [
        {
          "output_type": "stream",
          "name": "stdout",
          "text": [
            "Visiting node: 0 | Path: 0 \n",
            "Visiting node: 1 | Path: 0 1 \n",
            "Visiting node: 4 | Path: 0 1 4 \n",
            "Visiting node: 6 | Path: 0 1 4 6 \n",
            "Goal Found! Path: 0 1 4 6 \n"
          ]
        }
      ]
    },
    {
      "cell_type": "code",
      "source": [
        "%%writefile hc.cpp\n",
        "#include <iostream>\n",
        "#include <vector>\n",
        "#include <cmath>\n",
        "#include <limits>\n",
        "using namespace std;\n",
        "\n",
        "bool hillClimbUtil(int current, int goal, vector<vector<int>>& graph, vector<bool>& visited, vector<int>& path, vector<int>& heuristic) {\n",
        "    visited[current] = true;\n",
        "    path.push_back(current);\n",
        "    cout << \"Visiting node: \" << current << \" | Path: \";\n",
        "    for (int node : path) cout << node << \" \";\n",
        "    cout << endl;\n",
        "    if (current == goal) {\n",
        "        cout << \"Goal Found! Path: \";\n",
        "        for (int node : path) cout << node << \" \";\n",
        "        cout << endl;\n",
        "        return true;\n",
        "    }\n",
        "    int bestNode = -1;\n",
        "    int bestH = numeric_limits<int>::max();\n",
        "    for (int neighbor : graph[current]) {\n",
        "        if (!visited[neighbor] && heuristic[neighbor] < bestH) {\n",
        "            bestH = heuristic[neighbor];\n",
        "            bestNode = neighbor;\n",
        "        }\n",
        "    }\n",
        "    if (bestNode != -1 && hillClimbUtil(bestNode, goal, graph, visited, path, heuristic)) return true;\n",
        "    for (int neighbor : graph[current]) {\n",
        "        if (!visited[neighbor]) {\n",
        "            if (hillClimbUtil(neighbor, goal, graph, visited, path, heuristic)) return true;\n",
        "        }\n",
        "    }\n",
        "    path.pop_back();\n",
        "    return false;\n",
        "}\n",
        "\n",
        "void hillClimb(int start, int goal, vector<vector<int>>& graph, vector<int>& heuristic) {\n",
        "    vector<bool> visited(graph.size(), false);\n",
        "    vector<int> path;\n",
        "    hillClimbUtil(start, goal, graph, visited, path, heuristic);\n",
        "}\n",
        "\n",
        "int main() {\n",
        "    int n = 7;\n",
        "    vector<vector<int>> graph(n);\n",
        "    graph[0] = {1, 2};\n",
        "    graph[1] = {0, 2, 4};\n",
        "    graph[2] = {0, 1, 3};\n",
        "    graph[3] = {2, 5};\n",
        "    graph[4] = {1, 6};\n",
        "    graph[5] = {3};\n",
        "    graph[6] = {4};\n",
        "    vector<int> heuristic = {6, 5, 4, 3, 1, 2, 0};\n",
        "    int start = 0;\n",
        "    int goal = 6;\n",
        "    hillClimb(start, goal, graph, heuristic);\n",
        "    return 0;\n",
        "}"
      ],
      "metadata": {
        "colab": {
          "base_uri": "https://localhost:8080/"
        },
        "id": "IQIINNuUOhum",
        "outputId": "4a5832e7-3097-4d18-d106-4e33b901aef3"
      },
      "execution_count": 18,
      "outputs": [
        {
          "output_type": "stream",
          "name": "stdout",
          "text": [
            "Writing hc.cpp\n"
          ]
        }
      ]
    },
    {
      "cell_type": "code",
      "source": [
        "%%script bash\n",
        "g++ hc.cpp -o hc\n",
        "./hc"
      ],
      "metadata": {
        "colab": {
          "base_uri": "https://localhost:8080/"
        },
        "id": "swBPKBdwOhum",
        "outputId": "e7e790fa-8345-4916-c266-8c12768ec370"
      },
      "execution_count": 19,
      "outputs": [
        {
          "output_type": "stream",
          "name": "stdout",
          "text": [
            "Visiting node: 0 | Path: 0 \n",
            "Visiting node: 2 | Path: 0 2 \n",
            "Visiting node: 3 | Path: 0 2 3 \n",
            "Visiting node: 5 | Path: 0 2 3 5 \n",
            "Visiting node: 1 | Path: 0 2 1 \n",
            "Visiting node: 4 | Path: 0 2 1 4 \n",
            "Visiting node: 6 | Path: 0 2 1 4 6 \n",
            "Goal Found! Path: 0 2 1 4 6 \n"
          ]
        }
      ]
    },
    {
      "cell_type": "code",
      "source": [
        "%%writefile hch.cpp\n",
        "#include <iostream>\n",
        "#include <vector>\n",
        "#include <algorithm>\n",
        "#include <limits>\n",
        "using namespace std;\n",
        "\n",
        "bool hillClimbWithHistory(int current, int goal, vector<vector<int>>& graph, vector<bool>& visited, vector<int>& path, vector<int>& heuristic) {\n",
        "    visited[current] = true;\n",
        "    path.push_back(current);\n",
        "\n",
        "    cout << \"Visiting node: \" << current << \" | Path: \";\n",
        "    for (int node : path) cout << node << \" \";\n",
        "    cout << endl;\n",
        "\n",
        "    if (current == goal) {\n",
        "        cout << \"Goal Found! Path: \";\n",
        "        for (int node : path) cout << node << \" \";\n",
        "        cout << endl;\n",
        "        return true;\n",
        "    }\n",
        "\n",
        "    vector<int> candidates;\n",
        "    for (int neighbor : graph[current]) {\n",
        "        if (!visited[neighbor]) candidates.push_back(neighbor);\n",
        "    }\n",
        "\n",
        "    if (candidates.empty()) {\n",
        "        path.pop_back();\n",
        "        return false;\n",
        "    }\n",
        "\n",
        "    sort(candidates.begin(), candidates.end(), [&](int a, int b) {\n",
        "        return heuristic[a] < heuristic[b];\n",
        "    });\n",
        "\n",
        "    for (int nextNode : candidates) {\n",
        "        if (hillClimbWithHistory(nextNode, goal, graph, visited, path, heuristic)) return true;\n",
        "    }\n",
        "\n",
        "    path.pop_back();\n",
        "    return false;\n",
        "}\n",
        "\n",
        "int main() {\n",
        "    int n = 7;\n",
        "    vector<vector<int>> graph(n);\n",
        "    graph[0] = {1, 2};\n",
        "    graph[1] = {0, 2, 4};\n",
        "    graph[2] = {0, 1, 3};\n",
        "    graph[3] = {2, 5};\n",
        "    graph[4] = {1, 6};\n",
        "    graph[5] = {3};\n",
        "    graph[6] = {4};\n",
        "\n",
        "    vector<int> heuristic = {6, 5, 4, 3, 1, 2, 0};\n",
        "\n",
        "    vector<bool> visited(n, false);\n",
        "    vector<int> path;\n",
        "\n",
        "    hillClimbWithHistory(0, 6, graph, visited, path, heuristic);\n",
        "\n",
        "    return 0;\n",
        "}"
      ],
      "metadata": {
        "colab": {
          "base_uri": "https://localhost:8080/"
        },
        "id": "3H7WhjwJOh2w",
        "outputId": "67a0b94e-f0a7-4181-a00d-7248dd221ee9"
      },
      "execution_count": 20,
      "outputs": [
        {
          "output_type": "stream",
          "name": "stdout",
          "text": [
            "Writing hch.cpp\n"
          ]
        }
      ]
    },
    {
      "cell_type": "code",
      "source": [
        "%%script bash\n",
        "g++ hch.cpp -o hch\n",
        "./hch"
      ],
      "metadata": {
        "colab": {
          "base_uri": "https://localhost:8080/"
        },
        "id": "IQf7xsviOh2w",
        "outputId": "ea72b971-a92d-4fdb-bc2c-a453dcb2a3e4"
      },
      "execution_count": 21,
      "outputs": [
        {
          "output_type": "stream",
          "name": "stdout",
          "text": [
            "Visiting node: 0 | Path: 0 \n",
            "Visiting node: 2 | Path: 0 2 \n",
            "Visiting node: 3 | Path: 0 2 3 \n",
            "Visiting node: 5 | Path: 0 2 3 5 \n",
            "Visiting node: 1 | Path: 0 2 1 \n",
            "Visiting node: 4 | Path: 0 2 1 4 \n",
            "Visiting node: 6 | Path: 0 2 1 4 6 \n",
            "Goal Found! Path: 0 2 1 4 6 \n"
          ]
        }
      ]
    },
    {
      "cell_type": "code",
      "source": [
        "%%writefile BS.cpp\n",
        "#include <iostream>\n",
        "#include <vector>\n",
        "#include <unordered_set>\n",
        "#include <algorithm>\n",
        "using namespace std;\n",
        "\n",
        "struct State {\n",
        "    int node;\n",
        "    vector<int> path;\n",
        "    int heuristic;\n",
        "    unordered_set<int> visited;\n",
        "};\n",
        "\n",
        "void printBeam(const vector<State>& beam) {\n",
        "    cout << \"Current beam: \";\n",
        "    for (const auto& s : beam) {\n",
        "        cout << s.node << \"(h=\" << s.heuristic << \") \";\n",
        "    }\n",
        "    cout << endl;\n",
        "}\n",
        "\n",
        "void beamSearch(int start, int goal, vector<vector<int>>& graph, vector<int>& heuristic, int beamWidth) {\n",
        "    vector<State> beam;\n",
        "    beam.push_back({start, {start}, heuristic[start], {start}});\n",
        "\n",
        "    while (!beam.empty()) {\n",
        "        printBeam(beam);\n",
        "\n",
        "        vector<State> candidates;\n",
        "\n",
        "        for (const State& current : beam) {\n",
        "            cout << \"Visiting node: \" << current.node << \" (Heuristic: \" << current.heuristic << \") | Path: \";\n",
        "            for (int n : current.path) cout << n << \" \";\n",
        "            cout << endl;\n",
        "\n",
        "            if (current.node == goal) {\n",
        "                cout << \"Goal Found! Path: \";\n",
        "                for (int n : current.path) cout << n << \" \";\n",
        "                cout << endl;\n",
        "                return;\n",
        "            }\n",
        "\n",
        "            for (int neighbor : graph[current.node]) {\n",
        "                if (current.visited.find(neighbor) == current.visited.end()) {\n",
        "                    vector<int> newPath = current.path;\n",
        "                    newPath.push_back(neighbor);\n",
        "                    unordered_set<int> newVisited = current.visited;\n",
        "                    newVisited.insert(neighbor);\n",
        "                    candidates.push_back({neighbor, newPath, heuristic[neighbor], newVisited});\n",
        "                }\n",
        "            }\n",
        "        }\n",
        "\n",
        "        if (candidates.empty()) break;\n",
        "\n",
        "        sort(candidates.begin(), candidates.end(), [](const State& a, const State& b) {\n",
        "            return a.heuristic < b.heuristic;\n",
        "        });\n",
        "        if ((int)candidates.size() > beamWidth) candidates.resize(beamWidth);\n",
        "\n",
        "        beam = candidates;\n",
        "    }\n",
        "\n",
        "    cout << \"Goal not found!\" << endl;\n",
        "}\n",
        "\n",
        "int main() {\n",
        "    int n = 7;\n",
        "    vector<vector<int>> graph(n);\n",
        "    graph[0] = {1, 2};\n",
        "    graph[1] = {0, 2, 4};\n",
        "    graph[2] = {0, 1, 3};\n",
        "    graph[3] = {2, 5};\n",
        "    graph[4] = {1, 6};\n",
        "    graph[5] = {3};\n",
        "    graph[6] = {4};\n",
        "\n",
        "    vector<int> heuristic = {6, 5, 4, 3, 1, 2, 0};\n",
        "\n",
        "    int start = 0;\n",
        "    int goal = 6;\n",
        "    int beamWidth = 2;\n",
        "\n",
        "    beamSearch(start, goal, graph, heuristic, beamWidth);\n",
        "\n",
        "    return 0;\n",
        "}"
      ],
      "metadata": {
        "colab": {
          "base_uri": "https://localhost:8080/"
        },
        "id": "IWEHT4J0Oh9s",
        "outputId": "1ffddec7-9dd7-4055-80a8-466a91f9fa50"
      },
      "execution_count": 22,
      "outputs": [
        {
          "output_type": "stream",
          "name": "stdout",
          "text": [
            "Writing BS.cpp\n"
          ]
        }
      ]
    },
    {
      "cell_type": "code",
      "source": [
        "%%script bash\n",
        "g++ BS.cpp -o BS\n",
        "./BS"
      ],
      "metadata": {
        "colab": {
          "base_uri": "https://localhost:8080/"
        },
        "id": "KqB3RaZSOh9s",
        "outputId": "b2542422-5dbd-47a3-beb6-f9188750117f"
      },
      "execution_count": 23,
      "outputs": [
        {
          "metadata": {
            "tags": null
          },
          "name": "stdout",
          "output_type": "stream",
          "text": [
            "Current beam: 0(h=6) \n",
            "Visiting node: 0 (Heuristic: 6) | Path: 0 \n",
            "Current beam: 2(h=4) 1(h=5) \n",
            "Visiting node: 2 (Heuristic: 4) | Path: 0 2 \n",
            "Visiting node: 1 (Heuristic: 5) | Path: 0 1 \n",
            "Current beam: 4(h=1) 3(h=3) \n",
            "Visiting node: 4 (Heuristic: 1) | Path: 0 1 4 \n",
            "Visiting node: 3 (Heuristic: 3) | Path: 0 2 3 \n",
            "Current beam: 6(h=0) 5(h=2) \n",
            "Visiting node: 6 (Heuristic: 0) | Path: 0 1 4 6 \n",
            "Goal Found! Path: 0 1 4 6 \n"
          ]
        }
      ]
    },
    {
      "cell_type": "code",
      "source": [
        "%%writefile BSH.cpp\n",
        "#include <iostream>\n",
        "#include <vector>\n",
        "#include <unordered_set>\n",
        "#include <algorithm>\n",
        "using namespace std;\n",
        "\n",
        "struct State {\n",
        "    int node;\n",
        "    vector<int> path;\n",
        "    int heuristic;\n",
        "    unordered_set<int> visited;\n",
        "};\n",
        "\n",
        "void printBeam(const vector<State>& beam) {\n",
        "    cout << \"Current beam: \";\n",
        "    for (const auto& s : beam) {\n",
        "        cout << s.node << \"(h=\" << s.heuristic << \") \";\n",
        "    }\n",
        "    cout << endl;\n",
        "}\n",
        "\n",
        "void beamSearch(int start, int goal, vector<vector<int>>& graph, vector<int>& heuristic, int beamWidth) {\n",
        "    vector<State> beam;\n",
        "    beam.push_back({start, {start}, heuristic[start], {start}});\n",
        "\n",
        "    while (!beam.empty()) {\n",
        "        printBeam(beam);\n",
        "\n",
        "        vector<State> candidates;\n",
        "\n",
        "        for (const State& current : beam) {\n",
        "            cout << \"Visiting node: \" << current.node << \" (Heuristic: \" << current.heuristic << \") | Path: \";\n",
        "            for (int n : current.path) cout << n << \" \";\n",
        "            cout << endl;\n",
        "\n",
        "            if (current.node == goal) {\n",
        "                cout << \"Goal Found! Path: \";\n",
        "                for (int n : current.path) cout << n << \" \";\n",
        "                cout << endl;\n",
        "                return;\n",
        "            }\n",
        "\n",
        "            for (int neighbor : graph[current.node]) {\n",
        "                if (current.visited.find(neighbor) == current.visited.end()) {\n",
        "                    vector<int> newPath = current.path;\n",
        "                    newPath.push_back(neighbor);\n",
        "                    unordered_set<int> newVisited = current.visited;\n",
        "                    newVisited.insert(neighbor);\n",
        "                    candidates.push_back({neighbor, newPath, heuristic[neighbor], newVisited});\n",
        "                }\n",
        "            }\n",
        "        }\n",
        "\n",
        "        if (candidates.empty()) break;\n",
        "\n",
        "        sort(candidates.begin(), candidates.end(), [](const State& a, const State& b) {\n",
        "            return a.heuristic < b.heuristic;\n",
        "        });\n",
        "        if ((int)candidates.size() > beamWidth) candidates.resize(beamWidth);\n",
        "\n",
        "        beam = candidates;\n",
        "    }\n",
        "\n",
        "    cout << \"Goal not found!\" << endl;\n",
        "}\n",
        "\n",
        "int main() {\n",
        "    int n = 7;\n",
        "    vector<vector<int>> graph(n);\n",
        "    graph[0] = {1, 2};\n",
        "    graph[1] = {0, 2, 4};\n",
        "    graph[2] = {0, 1, 3};\n",
        "    graph[3] = {2, 5};\n",
        "    graph[4] = {1, 6};\n",
        "    graph[5] = {3};\n",
        "    graph[6] = {4};\n",
        "\n",
        "    vector<int> heuristic = {6, 5, 4, 3, 1, 2, 0};\n",
        "\n",
        "    int start = 0;\n",
        "    int goal = 6;\n",
        "    int beamWidth = 2;\n",
        "\n",
        "    beamSearch(start, goal, graph, heuristic, beamWidth);\n",
        "\n",
        "    return 0;\n",
        "}\n"
      ],
      "metadata": {
        "colab": {
          "base_uri": "https://localhost:8080/"
        },
        "id": "AIrBF9juOiEh",
        "outputId": "ac7597a1-11c0-4ee8-8e77-39e9198e0e37"
      },
      "execution_count": 24,
      "outputs": [
        {
          "metadata": {
            "tags": null
          },
          "name": "stdout",
          "output_type": "stream",
          "text": [
            "Writing BSH.cpp\n"
          ]
        }
      ]
    },
    {
      "cell_type": "code",
      "source": [
        "%%script bash\n",
        "g++ BSH.cpp -o BSH\n",
        "./BSH"
      ],
      "metadata": {
        "colab": {
          "base_uri": "https://localhost:8080/"
        },
        "id": "zrpmInN7OiEi",
        "outputId": "cc9a945e-9257-483e-bcd7-cef285bf9349"
      },
      "execution_count": 25,
      "outputs": [
        {
          "metadata": {
            "tags": null
          },
          "name": "stdout",
          "output_type": "stream",
          "text": [
            "Current beam: 0(h=6) \n",
            "Visiting node: 0 (Heuristic: 6) | Path: 0 \n",
            "Current beam: 2(h=4) 1(h=5) \n",
            "Visiting node: 2 (Heuristic: 4) | Path: 0 2 \n",
            "Visiting node: 1 (Heuristic: 5) | Path: 0 1 \n",
            "Current beam: 4(h=1) 3(h=3) \n",
            "Visiting node: 4 (Heuristic: 1) | Path: 0 1 4 \n",
            "Visiting node: 3 (Heuristic: 3) | Path: 0 2 3 \n",
            "Current beam: 6(h=0) 5(h=2) \n",
            "Visiting node: 6 (Heuristic: 0) | Path: 0 1 4 6 \n",
            "Goal Found! Path: 0 1 4 6 \n"
          ]
        }
      ]
    },
    {
      "cell_type": "code",
      "source": [
        "%%writefile Or.cpp\n",
        "#include <iostream>\n",
        "#include <vector>\n",
        "#include <limits>\n",
        "using namespace std;\n",
        "\n",
        "struct Edge {\n",
        "    int to;\n",
        "    int cost;\n",
        "};\n",
        "\n",
        "int calculatePathCost(const vector<vector<Edge>>& graph, const vector<int>& path) {\n",
        "    int cost = 0;\n",
        "    for (size_t i = 0; i + 1 < path.size(); i++) {\n",
        "        int from = path[i];\n",
        "        int to = path[i + 1];\n",
        "        for (const Edge& e : graph[from]) {\n",
        "            if (e.to == to) {\n",
        "                cost += e.cost;\n",
        "                break;\n",
        "            }\n",
        "        }\n",
        "    }\n",
        "    return cost;\n",
        "}\n",
        "\n",
        "void oracleSearchAllPaths(\n",
        "    const vector<vector<Edge>>& graph,\n",
        "    int current,\n",
        "    int goal,\n",
        "    int OR,\n",
        "    int currentCost,\n",
        "    vector<int>& path,\n",
        "    vector<vector<int>>& allPaths,\n",
        "    vector<bool>& visited\n",
        ") {\n",
        "    if (currentCost > OR) return;\n",
        "    if (current == goal) {\n",
        "        allPaths.push_back(path);\n",
        "        return;\n",
        "    }\n",
        "\n",
        "    visited[current] = true;\n",
        "\n",
        "    for (const Edge& e : graph[current]) {\n",
        "        if (!visited[e.to]) {\n",
        "            path.push_back(e.to);\n",
        "            oracleSearchAllPaths(graph, e.to, goal, OR, currentCost + e.cost, path, allPaths, visited);\n",
        "            path.pop_back();\n",
        "        }\n",
        "    }\n",
        "\n",
        "    visited[current] = false;\n",
        "}\n",
        "\n",
        "int main() {\n",
        "    int n = 7;\n",
        "    vector<vector<Edge>> graph(n);\n",
        "\n",
        "    graph[0] = {{1,1}, {2,4}};\n",
        "    graph[1] = {{0,1}, {2,2}, {4,7}};\n",
        "    graph[2] = {{0,4}, {1,2}, {3,6}};\n",
        "    graph[3] = {{2,6}, {5,5}};\n",
        "    graph[4] = {{1,7}, {6,1}};\n",
        "    graph[5] = {{3,5}};\n",
        "    graph[6] = {{4,1}};\n",
        "\n",
        "    int start = 0;\n",
        "    int goal = 6;\n",
        "    int OR = 15;\n",
        "\n",
        "    vector<int> path = {start};\n",
        "    vector<vector<int>> allPaths;\n",
        "    vector<bool> visited(n, false);\n",
        "\n",
        "    oracleSearchAllPaths(graph, start, goal, OR, 0, path, allPaths, visited);\n",
        "\n",
        "    if (!allPaths.empty()) {\n",
        "        cout << \"Paths found within Oracle Rate:\\n\";\n",
        "        for (auto& p : allPaths) {\n",
        "            for (int node : p) cout << node << \" \";\n",
        "            cout << \" | Cost: \" << calculatePathCost(graph, p) << \"\\n\";\n",
        "        }\n",
        "    } else {\n",
        "        cout << \"No paths found within Oracle Rate\\n\";\n",
        "    }\n",
        "\n",
        "    return 0;\n",
        "}"
      ],
      "metadata": {
        "colab": {
          "base_uri": "https://localhost:8080/"
        },
        "id": "C6IN8xlLOiMZ",
        "outputId": "ee137e56-dff9-4b2b-c662-a2ed0d6b4775"
      },
      "execution_count": 26,
      "outputs": [
        {
          "metadata": {
            "tags": null
          },
          "name": "stdout",
          "output_type": "stream",
          "text": [
            "Writing Or.cpp\n"
          ]
        }
      ]
    },
    {
      "cell_type": "code",
      "source": [
        "%%script bash\n",
        "g++ Or.cpp -o Or\n",
        "./Or"
      ],
      "metadata": {
        "colab": {
          "base_uri": "https://localhost:8080/"
        },
        "id": "T8izbpJHOiMa",
        "outputId": "38350eb5-fcc5-43ae-d8d4-344e92e4b625"
      },
      "execution_count": 27,
      "outputs": [
        {
          "metadata": {
            "tags": null
          },
          "name": "stdout",
          "output_type": "stream",
          "text": [
            "Paths found within Oracle Rate:\n",
            "0 1 4 6  | Cost: 9\n",
            "0 2 1 4 6  | Cost: 14\n"
          ]
        }
      ]
    },
    {
      "cell_type": "code",
      "source": [
        "%%writefile BBO.cpp\n",
        "#include <iostream>\n",
        "#include <vector>\n",
        "#include <limits>\n",
        "using namespace std;\n",
        "\n",
        "struct Edge {\n",
        "    int to;\n",
        "    int cost;\n",
        "};\n",
        "\n",
        "int calculatePathCost(const vector<vector<Edge>>& graph, const vector<int>& path) {\n",
        "    int cost = 0;\n",
        "    for (size_t i = 0; i + 1 < path.size(); i++) {\n",
        "        int from = path[i];\n",
        "        int to = path[i + 1];\n",
        "        for (const Edge& e : graph[from]) {\n",
        "            if (e.to == to) {\n",
        "                cost += e.cost;\n",
        "                break;\n",
        "            }\n",
        "        }\n",
        "    }\n",
        "    return cost;\n",
        "}\n",
        "\n",
        "void branchAndBoundOracleSearch(\n",
        "    const vector<vector<Edge>>& graph,\n",
        "    int current,\n",
        "    int goal,\n",
        "    int OR,\n",
        "    int currentCost,\n",
        "    vector<int>& path,\n",
        "    vector<bool>& visited,\n",
        "    vector<int>& bestPath,\n",
        "    int& bestCost\n",
        ") {\n",
        "    if (current == goal) {\n",
        "        if (currentCost < bestCost) {\n",
        "            bestCost = currentCost;\n",
        "            bestPath = path;\n",
        "        }\n",
        "        return;\n",
        "    }\n",
        "\n",
        "    visited[current] = true;\n",
        "\n",
        "    for (const Edge& e : graph[current]) {\n",
        "        if (!visited[e.to]) {\n",
        "            int newCost = currentCost + e.cost;\n",
        "            if (newCost <= OR && newCost < bestCost) {\n",
        "                path.push_back(e.to);\n",
        "                branchAndBoundOracleSearch(graph, e.to, goal, OR, newCost, path, visited, bestPath, bestCost);\n",
        "                path.pop_back();\n",
        "            }\n",
        "        }\n",
        "    }\n",
        "\n",
        "    visited[current] = false;\n",
        "}\n",
        "\n",
        "int main() {\n",
        "    int n = 7;\n",
        "    vector<vector<Edge>> graph(n);\n",
        "\n",
        "    graph[0] = {{1,1}, {2,4}};\n",
        "    graph[1] = {{0,1}, {2,2}, {4,7}};\n",
        "    graph[2] = {{0,4}, {1,2}, {3,6}};\n",
        "    graph[3] = {{2,6}, {5,5}};\n",
        "    graph[4] = {{1,7}, {6,1}};\n",
        "    graph[5] = {{3,5}};\n",
        "    graph[6] = {{4,1}};\n",
        "\n",
        "    int start = 0;\n",
        "    int goal = 6;\n",
        "    int OR = 9;\n",
        "\n",
        "    vector<int> path = {start};\n",
        "    vector<bool> visited(n, false);\n",
        "    vector<int> bestPath;\n",
        "    int bestCost = numeric_limits<int>::max();\n",
        "\n",
        "    branchAndBoundOracleSearch(graph, start, goal, OR, 0, path, visited, bestPath, bestCost);\n",
        "\n",
        "    if (!bestPath.empty()) {\n",
        "        cout << \"Best path found within Oracle Rate: \";\n",
        "        for (int node : bestPath) cout << node << \" \";\n",
        "        cout << \"\\nCost: \" << bestCost << \"\\n\";\n",
        "    } else {\n",
        "        cout << \"No path found within Oracle Rate\\n\";\n",
        "    }\n",
        "\n",
        "    return 0;\n",
        "}"
      ],
      "metadata": {
        "colab": {
          "base_uri": "https://localhost:8080/"
        },
        "id": "pLyZu9obOiUX",
        "outputId": "a801e0da-4cfc-4136-9128-55a65c1accf4"
      },
      "execution_count": 28,
      "outputs": [
        {
          "metadata": {
            "tags": null
          },
          "name": "stdout",
          "output_type": "stream",
          "text": [
            "Writing BBO.cpp\n"
          ]
        }
      ]
    },
    {
      "cell_type": "code",
      "source": [
        "%%script bash\n",
        "g++ BBO.cpp -o BBO\n",
        "./BBO"
      ],
      "metadata": {
        "colab": {
          "base_uri": "https://localhost:8080/"
        },
        "id": "gASW23KXOiUY",
        "outputId": "6b508b95-7317-4a14-e77e-3cacbfa79bf8"
      },
      "execution_count": 29,
      "outputs": [
        {
          "metadata": {
            "tags": null
          },
          "name": "stdout",
          "output_type": "stream",
          "text": [
            "Best path found within Oracle Rate: 0 1 4 6 \n",
            "Cost: 9\n"
          ]
        }
      ]
    },
    {
      "cell_type": "code",
      "source": [
        "%%writefile BBH.cpp\n",
        "#include <iostream>\n",
        "#include <vector>\n",
        "#include <limits>\n",
        "using namespace std;\n",
        "\n",
        "struct Edge {\n",
        "    int to;\n",
        "    int cost;\n",
        "};\n",
        "\n",
        "void printPath(const vector<int>& path, int cost) {\n",
        "    cout << \"Visiting node: \" << path.back() << \" | Path: \";\n",
        "    for (int node : path) cout << node << \" \";\n",
        "    cout << \"| Cost so far: \" << cost << \"\\n\";\n",
        "}\n",
        "\n",
        "void branchAndBoundOracleSearch(\n",
        "    const vector<vector<Edge>>& graph,\n",
        "    int current,\n",
        "    int goal,\n",
        "    int OR,\n",
        "    int currentCost,\n",
        "    vector<int>& path,\n",
        "    vector<bool>& visited,\n",
        "    vector<int>& bestPath,\n",
        "    int& bestCost\n",
        ") {\n",
        "    printPath(path, currentCost);\n",
        "\n",
        "    if (current == goal) {\n",
        "        if (currentCost < bestCost) {\n",
        "            bestCost = currentCost;\n",
        "            bestPath = path;\n",
        "        }\n",
        "        return;\n",
        "    }\n",
        "\n",
        "    visited[current] = true;\n",
        "\n",
        "    for (const Edge& e : graph[current]) {\n",
        "        if (!visited[e.to]) {\n",
        "            int newCost = currentCost + e.cost;\n",
        "            if (newCost <= OR && newCost < bestCost) {\n",
        "                path.push_back(e.to);\n",
        "                branchAndBoundOracleSearch(graph, e.to, goal, OR, newCost, path, visited, bestPath, bestCost);\n",
        "                path.pop_back();\n",
        "            }\n",
        "        }\n",
        "    }\n",
        "\n",
        "    visited[current] = false;\n",
        "}\n",
        "\n",
        "int main() {\n",
        "    int n = 7;\n",
        "    vector<vector<Edge>> graph(n);\n",
        "\n",
        "    graph[0] = {{1,1}, {2,4}};\n",
        "    graph[1] = {{0,1}, {2,2}, {4,7}};\n",
        "    graph[2] = {{0,4}, {1,2}, {3,6}};\n",
        "    graph[3] = {{2,6}, {5,5}};\n",
        "    graph[4] = {{1,7}, {6,1}};\n",
        "    graph[5] = {{3,5}};\n",
        "    graph[6] = {{4,1}};\n",
        "\n",
        "    int start = 0;\n",
        "    int goal = 6;\n",
        "    int OR = 10;\n",
        "\n",
        "    vector<int> path = {start};\n",
        "    vector<bool> visited(n, false);\n",
        "    vector<int> bestPath;\n",
        "    int bestCost = numeric_limits<int>::max();\n",
        "\n",
        "    branchAndBoundOracleSearch(graph, start, goal, OR, 0, path, visited, bestPath, bestCost);\n",
        "\n",
        "    if (!bestPath.empty()) {\n",
        "        cout << \"Best path found within Oracle Rate: \";\n",
        "        for (int node : bestPath) cout << node << \" \";\n",
        "        cout << \"\\nCost: \" << bestCost << \"\\n\";\n",
        "    } else {\n",
        "        cout << \"No path found within Oracle Rate\\n\";\n",
        "    }\n",
        "\n",
        "    return 0;\n",
        "}"
      ],
      "metadata": {
        "colab": {
          "base_uri": "https://localhost:8080/"
        },
        "id": "_7tsvNgXOibM",
        "outputId": "9bcf93e7-368a-4677-c9ad-e1efafdb63b7"
      },
      "execution_count": 30,
      "outputs": [
        {
          "metadata": {
            "tags": null
          },
          "name": "stdout",
          "output_type": "stream",
          "text": [
            "Writing BBH.cpp\n"
          ]
        }
      ]
    },
    {
      "cell_type": "code",
      "source": [
        "%%script bash\n",
        "g++ BBH.cpp -o BBH\n",
        "./BBH"
      ],
      "metadata": {
        "colab": {
          "base_uri": "https://localhost:8080/"
        },
        "id": "gb4Ny-mhOibM",
        "outputId": "753956f3-b3ff-4fe3-9617-09b0bd7eb6f4"
      },
      "execution_count": 31,
      "outputs": [
        {
          "output_type": "stream",
          "name": "stdout",
          "text": [
            "Visiting node: 0 | Path: 0 | Cost so far: 0\n",
            "Visiting node: 1 | Path: 0 1 | Cost so far: 1\n",
            "Visiting node: 2 | Path: 0 1 2 | Cost so far: 3\n",
            "Visiting node: 3 | Path: 0 1 2 3 | Cost so far: 9\n",
            "Visiting node: 4 | Path: 0 1 4 | Cost so far: 8\n",
            "Visiting node: 6 | Path: 0 1 4 6 | Cost so far: 9\n",
            "Visiting node: 2 | Path: 0 2 | Cost so far: 4\n",
            "Visiting node: 1 | Path: 0 2 1 | Cost so far: 6\n",
            "Best path found within Oracle Rate: 0 1 4 6 \n",
            "Cost: 9\n"
          ]
        }
      ]
    },
    {
      "cell_type": "code",
      "source": [
        "%%writefile BBOH.cpp\n",
        "#include <iostream>\n",
        "#include <vector>\n",
        "#include <limits>\n",
        "using namespace std;\n",
        "\n",
        "struct Edge {\n",
        "    int to;\n",
        "    int cost;\n",
        "};\n",
        "\n",
        "void printPath(const vector<int>& path, int cost) {\n",
        "    cout << \"Visiting node: \" << path.back() << \" | Path: \";\n",
        "    for (int node : path) cout << node << \" \";\n",
        "    cout << \"| Cost so far: \" << cost << \"\\n\";\n",
        "}\n",
        "\n",
        "void branchAndBoundOracleHeuristicSearch(\n",
        "    const vector<vector<Edge>>& graph,\n",
        "    const vector<int>& heuristic,\n",
        "    int current,\n",
        "    int goal,\n",
        "    int OR,\n",
        "    int currentCost,\n",
        "    vector<int>& path,\n",
        "    vector<bool>& visited,\n",
        "    vector<int>& bestPath,\n",
        "    int& bestCost\n",
        ") {\n",
        "    printPath(path, currentCost);\n",
        "\n",
        "    if (current == goal) {\n",
        "        if (currentCost < bestCost) {\n",
        "            bestCost = currentCost;\n",
        "            bestPath = path;\n",
        "        }\n",
        "        return;\n",
        "    }\n",
        "\n",
        "    visited[current] = true;\n",
        "\n",
        "    for (const Edge& e : graph[current]) {\n",
        "        if (!visited[e.to]) {\n",
        "            int newCost = currentCost + e.cost;\n",
        "            int estimatedTotalCost = newCost + heuristic[e.to];\n",
        "            if (estimatedTotalCost <= OR && estimatedTotalCost < bestCost) {\n",
        "                path.push_back(e.to);\n",
        "                branchAndBoundOracleHeuristicSearch(graph, heuristic, e.to, goal, OR, newCost, path, visited, bestPath, bestCost);\n",
        "                path.pop_back();\n",
        "            }\n",
        "        }\n",
        "    }\n",
        "\n",
        "    visited[current] = false;\n",
        "}\n",
        "\n",
        "int main() {\n",
        "    int n = 7;\n",
        "    vector<vector<Edge>> graph(n);\n",
        "\n",
        "    graph[0] = {{1,1}, {2,4}};\n",
        "    graph[1] = {{0,1}, {2,2}, {4,7}};\n",
        "    graph[2] = {{0,4}, {1,2}, {3,6}};\n",
        "    graph[3] = {{2,6}, {5,5}};\n",
        "    graph[4] = {{1,7}, {6,1}};\n",
        "    graph[5] = {{3,5}};\n",
        "    graph[6] = {{4,1}};\n",
        "\n",
        "    vector<int> heuristic = {6, 5, 4, 3, 1, 2, 0};\n",
        "\n",
        "    int start = 0;\n",
        "    int goal = 6;\n",
        "    int OR = 10;\n",
        "\n",
        "    vector<int> path = {start};\n",
        "    vector<bool> visited(n, false);\n",
        "    vector<int> bestPath;\n",
        "    int bestCost = numeric_limits<int>::max();\n",
        "\n",
        "    branchAndBoundOracleHeuristicSearch(graph, heuristic, start, goal, OR, 0, path, visited, bestPath, bestCost);\n",
        "\n",
        "    if (!bestPath.empty()) {\n",
        "        cout << \"Best path found within Oracle Rate and heuristic pruning: \";\n",
        "        for (int node : bestPath) cout << node << \" \";\n",
        "        cout << \"\\nCost: \" << bestCost << \"\\n\";\n",
        "    } else {\n",
        "        cout << \"No path found within Oracle Rate\\n\";\n",
        "    }\n",
        "\n",
        "    return 0;\n",
        "}"
      ],
      "metadata": {
        "colab": {
          "base_uri": "https://localhost:8080/"
        },
        "id": "OGUiNNgJOiiU",
        "outputId": "2d6f1f10-e441-4268-ebcc-06bb669c452f"
      },
      "execution_count": 32,
      "outputs": [
        {
          "output_type": "stream",
          "name": "stdout",
          "text": [
            "Writing BBOH.cpp\n"
          ]
        }
      ]
    },
    {
      "cell_type": "code",
      "source": [
        "%%script bash\n",
        "g++ BBOH.cpp -o BBOH\n",
        "./BBOH"
      ],
      "metadata": {
        "colab": {
          "base_uri": "https://localhost:8080/"
        },
        "id": "1DgOuzLLOiiU",
        "outputId": "6d181fb5-ce6d-428c-a288-7d99ccbaa924"
      },
      "execution_count": 33,
      "outputs": [
        {
          "output_type": "stream",
          "name": "stdout",
          "text": [
            "Visiting node: 0 | Path: 0 | Cost so far: 0\n",
            "Visiting node: 1 | Path: 0 1 | Cost so far: 1\n",
            "Visiting node: 2 | Path: 0 1 2 | Cost so far: 3\n",
            "Visiting node: 4 | Path: 0 1 4 | Cost so far: 8\n",
            "Visiting node: 6 | Path: 0 1 4 6 | Cost so far: 9\n",
            "Visiting node: 2 | Path: 0 2 | Cost so far: 4\n",
            "Best path found within Oracle Rate and heuristic pruning: 0 1 4 6 \n",
            "Cost: 9\n"
          ]
        }
      ]
    },
    {
      "cell_type": "code",
      "source": [
        "%%writefile A.cpp\n",
        "#include <iostream>\n",
        "#include <vector>\n",
        "#include <queue>\n",
        "#include <limits>\n",
        "using namespace std;\n",
        "\n",
        "struct Edge {\n",
        "    int to;\n",
        "    int cost;\n",
        "};\n",
        "\n",
        "struct Node {\n",
        "    int vertex;\n",
        "    int costSoFar;\n",
        "    int estimatedCost;\n",
        "    vector<int> path;\n",
        "\n",
        "    bool operator>(const Node& other) const {\n",
        "        return estimatedCost > other.estimatedCost;\n",
        "    }\n",
        "};\n",
        "\n",
        "int calculatePathCost(const vector<vector<Edge>>& graph, const vector<int>& path) {\n",
        "    int cost = 0;\n",
        "    for (size_t i = 0; i + 1 < path.size(); i++) {\n",
        "        int from = path[i];\n",
        "        int to = path[i + 1];\n",
        "        for (const Edge& e : graph[from]) {\n",
        "            if (e.to == to) {\n",
        "                cost += e.cost;\n",
        "                break;\n",
        "            }\n",
        "        }\n",
        "    }\n",
        "    return cost;\n",
        "}\n",
        "\n",
        "void aStarSearch(\n",
        "    const vector<vector<Edge>>& graph,\n",
        "    const vector<int>& heuristic,\n",
        "    int start,\n",
        "    int goal,\n",
        "    int OR\n",
        ") {\n",
        "    int n = graph.size();\n",
        "    vector<bool> visited(n, false);\n",
        "\n",
        "    priority_queue<Node, vector<Node>, greater<Node>> pq;\n",
        "    pq.push({start, 0, heuristic[start], {start}});\n",
        "\n",
        "    while (!pq.empty()) {\n",
        "        Node current = pq.top();\n",
        "        pq.pop();\n",
        "\n",
        "        int node = current.vertex;\n",
        "        int costSoFar = current.costSoFar;\n",
        "        const vector<int>& path = current.path;\n",
        "\n",
        "        if (visited[node]) continue;\n",
        "        visited[node] = true;\n",
        "\n",
        "        cout << \"Visiting node: \" << node << \" (Heuristic: \" << heuristic[node] << \") | Path: \";\n",
        "        for (int p : path) cout << p << \" \";\n",
        "        cout << \"| Cost so far: \" << costSoFar << \"\\n\";\n",
        "\n",
        "        if (node == goal) {\n",
        "            cout << \"Goal Found! Final Path: \";\n",
        "            for (int p : path) cout << p << \" \";\n",
        "            cout << \"\\nTotal Cost: \" << costSoFar << \"\\n\";\n",
        "            return;\n",
        "        }\n",
        "\n",
        "        for (const Edge& edge : graph[node]) {\n",
        "            int nextNode = edge.to;\n",
        "            int newCost = costSoFar + edge.cost;\n",
        "            int estTotalCost = newCost + heuristic[nextNode];\n",
        "\n",
        "            if (!visited[nextNode] && estTotalCost <= OR) {\n",
        "                vector<int> newPath = path;\n",
        "                newPath.push_back(nextNode);\n",
        "                pq.push({nextNode, newCost, estTotalCost, newPath});\n",
        "            }\n",
        "        }\n",
        "    }\n",
        "\n",
        "    cout << \"No path found within Oracle Rate\\n\";\n",
        "}\n",
        "\n",
        "int main() {\n",
        "    int n = 7;\n",
        "    vector<vector<Edge>> graph(n);\n",
        "\n",
        "    graph[0] = {{1,1}, {2,4}};\n",
        "    graph[1] = {{0,1}, {2,2}, {4,7}};\n",
        "    graph[2] = {{0,4}, {1,2}, {3,6}};\n",
        "    graph[3] = {{2,6}, {5,5}};\n",
        "    graph[4] = {{1,7}, {6,1}};\n",
        "    graph[5] = {{3,5}};\n",
        "    graph[6] = {{4,1}};\n",
        "\n",
        "    vector<int> heuristic = {6, 5, 4, 3, 1, 2, 0};\n",
        "\n",
        "    int start = 0;\n",
        "    int goal = 6;\n",
        "    int OR = 10;\n",
        "\n",
        "    aStarSearch(graph, heuristic, start, goal, OR);\n",
        "\n",
        "    return 0;\n",
        "}"
      ],
      "metadata": {
        "id": "Nxj1rRQKOip0",
        "colab": {
          "base_uri": "https://localhost:8080/"
        },
        "outputId": "41d89ee0-01ac-4a4c-b58e-ca559976c749"
      },
      "execution_count": 34,
      "outputs": [
        {
          "output_type": "stream",
          "name": "stdout",
          "text": [
            "Overwriting A.cpp\n"
          ]
        }
      ]
    },
    {
      "cell_type": "code",
      "source": [
        "%%script bash\n",
        "g++ A.cpp -o A\n",
        "./A"
      ],
      "metadata": {
        "id": "UEZPNHYUOip0",
        "colab": {
          "base_uri": "https://localhost:8080/"
        },
        "outputId": "343e5a68-a9dd-46b3-b7dc-657bdfc5f73e"
      },
      "execution_count": 35,
      "outputs": [
        {
          "output_type": "stream",
          "name": "stdout",
          "text": [
            "Visiting node: 0 (Heuristic: 6) | Path: 0 | Cost so far: 0\n",
            "Visiting node: 1 (Heuristic: 5) | Path: 0 1 | Cost so far: 1\n",
            "Visiting node: 2 (Heuristic: 4) | Path: 0 1 2 | Cost so far: 3\n",
            "Visiting node: 4 (Heuristic: 1) | Path: 0 1 4 | Cost so far: 8\n",
            "Visiting node: 6 (Heuristic: 0) | Path: 0 1 4 6 | Cost so far: 9\n",
            "Goal Found! Final Path: 0 1 4 6 \n",
            "Total Cost: 9\n"
          ]
        }
      ]
    }
  ]
}